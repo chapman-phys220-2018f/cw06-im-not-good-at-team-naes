{
 "cells": [
  {
   "cell_type": "markdown",
   "metadata": {
    "collapsed": false
   },
   "source": [
    "## Is it clear how the code is organized?\n",
    "The code is well organized and easy to follow.\n",
    "## Is the code properly documented with both docstrings and supplementary comments according to industry standards?\n",
    "The code has docstrings, but is lacking in comments\n",
    "## Can you follow the algorithm of the code?\n",
    "Yes.\n",
    "## Do you see any suggestions for how to improve the code?\n",
    "Make the Jupyter notebook run.\n",
    "## Are the test cases in the test module run by the code automatically by Travis?\n",
    "Yes and it passes\n",
    "90/100"
   ]
  },
  {
   "cell_type": "markdown",
   "metadata": {
    "collapsed": false
   },
   "source": [
    "## Is it clear how the code is organized?\n",
    "The code is very clear and nicely organized, looks alot better than mine....\n",
    "## Is the code properly documented with both docstrings and supplementary comments according to industry standards?\n",
    "No comments or docstrings... Alas, he learned after this assignment to use them :/\n",
    "## Can you follow the algorithm of the code?\n",
    "Heck ya!\n",
    "## Do you see any suggestions for how to improve the code?\n",
    "It is perfect, no problems. Very well done\n",
    "## Are the test cases in the test module run by the code automatically by Travis?\n",
    "Yes and it passes\n",
    "100/100"
   ]
  },
  {
   "cell_type": "code",
   "execution_count": 0,
   "metadata": {
    "collapsed": false
   },
   "outputs": [
   ],
   "source": [
   ]
  }
 ],
 "metadata": {
  "kernelspec": {
   "display_name": "Python 3 (Anaconda 5)",
   "language": "python",
   "name": "anaconda5"
  },
  "language_info": {
   "codemirror_mode": {
    "name": "ipython",
    "version": 3
   },
   "file_extension": ".py",
   "mimetype": "text/x-python",
   "name": "python",
   "nbconvert_exporter": "python",
   "pygments_lexer": "ipython3",
   "version": "3.6.5"
  }
 },
 "nbformat": 4,
 "nbformat_minor": 0
}